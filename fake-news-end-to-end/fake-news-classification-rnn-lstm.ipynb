{
 "cells": [
  {
   "cell_type": "markdown",
   "metadata": {},
   "source": [
    "# **CLASSIFYING FAKE NEWS USING LSTM**\n",
    "\n"
   ]
  },
  {
   "cell_type": "code",
   "execution_count": 1,
   "metadata": {
    "execution": {
     "iopub.execute_input": "2021-07-07T05:48:14.836779Z",
     "iopub.status.busy": "2021-07-07T05:48:14.836409Z",
     "iopub.status.idle": "2021-07-07T05:48:20.832974Z",
     "shell.execute_reply": "2021-07-07T05:48:20.832014Z",
     "shell.execute_reply.started": "2021-07-07T05:48:14.836690Z"
    }
   },
   "outputs": [],
   "source": [
    "#importing libraries\n",
    "import re\n",
    "import numpy as np\n",
    "import pandas as pd\n",
    "import matplotlib.pyplot as plt\n",
    "from tensorflow.keras.layers import Embedding,LSTM,Dense,Dropout\n",
    "from tensorflow.keras.preprocessing.sequence import pad_sequences\n",
    "from tensorflow.keras.models import Sequential\n",
    "from tensorflow.keras.preprocessing.text import one_hot\n",
    "from nltk.stem.porter import PorterStemmer\n",
    "from nltk.corpus import stopwords\n",
    "import matplotlib.pyplot as plt\n",
    "import seaborn as sns"
   ]
  },
  {
   "cell_type": "code",
   "execution_count": 2,
   "metadata": {
    "execution": {
     "iopub.execute_input": "2021-07-07T05:48:20.835086Z",
     "iopub.status.busy": "2021-07-07T05:48:20.834710Z",
     "iopub.status.idle": "2021-07-07T05:48:22.814136Z",
     "shell.execute_reply": "2021-07-07T05:48:22.813295Z",
     "shell.execute_reply.started": "2021-07-07T05:48:20.835049Z"
    }
   },
   "outputs": [
    {
     "data": {
      "text/html": [
       "<div>\n",
       "<style scoped>\n",
       "    .dataframe tbody tr th:only-of-type {\n",
       "        vertical-align: middle;\n",
       "    }\n",
       "\n",
       "    .dataframe tbody tr th {\n",
       "        vertical-align: top;\n",
       "    }\n",
       "\n",
       "    .dataframe thead th {\n",
       "        text-align: right;\n",
       "    }\n",
       "</style>\n",
       "<table border=\"1\" class=\"dataframe\">\n",
       "  <thead>\n",
       "    <tr style=\"text-align: right;\">\n",
       "      <th></th>\n",
       "      <th>id</th>\n",
       "      <th>title</th>\n",
       "      <th>author</th>\n",
       "      <th>text</th>\n",
       "      <th>label</th>\n",
       "    </tr>\n",
       "  </thead>\n",
       "  <tbody>\n",
       "    <tr>\n",
       "      <th>0</th>\n",
       "      <td>0</td>\n",
       "      <td>House Dem Aide: We Didn’t Even See Comey’s Let...</td>\n",
       "      <td>Darrell Lucus</td>\n",
       "      <td>House Dem Aide: We Didn’t Even See Comey’s Let...</td>\n",
       "      <td>1</td>\n",
       "    </tr>\n",
       "    <tr>\n",
       "      <th>1</th>\n",
       "      <td>1</td>\n",
       "      <td>FLYNN: Hillary Clinton, Big Woman on Campus - ...</td>\n",
       "      <td>Daniel J. Flynn</td>\n",
       "      <td>Ever get the feeling your life circles the rou...</td>\n",
       "      <td>0</td>\n",
       "    </tr>\n",
       "    <tr>\n",
       "      <th>2</th>\n",
       "      <td>2</td>\n",
       "      <td>Why the Truth Might Get You Fired</td>\n",
       "      <td>Consortiumnews.com</td>\n",
       "      <td>Why the Truth Might Get You Fired October 29, ...</td>\n",
       "      <td>1</td>\n",
       "    </tr>\n",
       "    <tr>\n",
       "      <th>3</th>\n",
       "      <td>3</td>\n",
       "      <td>15 Civilians Killed In Single US Airstrike Hav...</td>\n",
       "      <td>Jessica Purkiss</td>\n",
       "      <td>Videos 15 Civilians Killed In Single US Airstr...</td>\n",
       "      <td>1</td>\n",
       "    </tr>\n",
       "    <tr>\n",
       "      <th>4</th>\n",
       "      <td>4</td>\n",
       "      <td>Iranian woman jailed for fictional unpublished...</td>\n",
       "      <td>Howard Portnoy</td>\n",
       "      <td>Print \\nAn Iranian woman has been sentenced to...</td>\n",
       "      <td>1</td>\n",
       "    </tr>\n",
       "  </tbody>\n",
       "</table>\n",
       "</div>"
      ],
      "text/plain": [
       "   id                                              title              author  \\\n",
       "0   0  House Dem Aide: We Didn’t Even See Comey’s Let...       Darrell Lucus   \n",
       "1   1  FLYNN: Hillary Clinton, Big Woman on Campus - ...     Daniel J. Flynn   \n",
       "2   2                  Why the Truth Might Get You Fired  Consortiumnews.com   \n",
       "3   3  15 Civilians Killed In Single US Airstrike Hav...     Jessica Purkiss   \n",
       "4   4  Iranian woman jailed for fictional unpublished...      Howard Portnoy   \n",
       "\n",
       "                                                text  label  \n",
       "0  House Dem Aide: We Didn’t Even See Comey’s Let...      1  \n",
       "1  Ever get the feeling your life circles the rou...      0  \n",
       "2  Why the Truth Might Get You Fired October 29, ...      1  \n",
       "3  Videos 15 Civilians Killed In Single US Airstr...      1  \n",
       "4  Print \\nAn Iranian woman has been sentenced to...      1  "
      ]
     },
     "execution_count": 2,
     "metadata": {},
     "output_type": "execute_result"
    }
   ],
   "source": [
    "ds = pd.read_csv(\"../input/fake-news/train.csv\")\n",
    "ds.head()"
   ]
  },
  {
   "cell_type": "code",
   "execution_count": 3,
   "metadata": {
    "execution": {
     "iopub.execute_input": "2021-07-07T05:48:22.816847Z",
     "iopub.status.busy": "2021-07-07T05:48:22.816485Z",
     "iopub.status.idle": "2021-07-07T05:48:22.831512Z",
     "shell.execute_reply": "2021-07-07T05:48:22.830433Z",
     "shell.execute_reply.started": "2021-07-07T05:48:22.816808Z"
    }
   },
   "outputs": [
    {
     "data": {
      "text/plain": [
       "id           0\n",
       "title      558\n",
       "author    1957\n",
       "text        39\n",
       "label        0\n",
       "dtype: int64"
      ]
     },
     "execution_count": 3,
     "metadata": {},
     "output_type": "execute_result"
    }
   ],
   "source": [
    "ds.isnull().sum()"
   ]
  },
  {
   "cell_type": "markdown",
   "metadata": {},
   "source": [
    "**DROPPING NULL VALUES**"
   ]
  },
  {
   "cell_type": "code",
   "execution_count": 4,
   "metadata": {
    "execution": {
     "iopub.execute_input": "2021-07-07T05:48:22.839891Z",
     "iopub.status.busy": "2021-07-07T05:48:22.839309Z",
     "iopub.status.idle": "2021-07-07T05:48:22.879532Z",
     "shell.execute_reply": "2021-07-07T05:48:22.878825Z",
     "shell.execute_reply.started": "2021-07-07T05:48:22.839856Z"
    }
   },
   "outputs": [
    {
     "data": {
      "text/plain": [
       "id        0\n",
       "title     0\n",
       "author    0\n",
       "text      0\n",
       "label     0\n",
       "dtype: int64"
      ]
     },
     "execution_count": 4,
     "metadata": {},
     "output_type": "execute_result"
    }
   ],
   "source": [
    "ds = ds.dropna()\n",
    "ds.isnull().sum()"
   ]
  },
  {
   "cell_type": "code",
   "execution_count": 5,
   "metadata": {
    "execution": {
     "iopub.execute_input": "2021-07-07T05:48:22.881169Z",
     "iopub.status.busy": "2021-07-07T05:48:22.880751Z",
     "iopub.status.idle": "2021-07-07T05:48:22.892940Z",
     "shell.execute_reply": "2021-07-07T05:48:22.892006Z",
     "shell.execute_reply.started": "2021-07-07T05:48:22.881143Z"
    }
   },
   "outputs": [
    {
     "data": {
      "text/html": [
       "<div>\n",
       "<style scoped>\n",
       "    .dataframe tbody tr th:only-of-type {\n",
       "        vertical-align: middle;\n",
       "    }\n",
       "\n",
       "    .dataframe tbody tr th {\n",
       "        vertical-align: top;\n",
       "    }\n",
       "\n",
       "    .dataframe thead th {\n",
       "        text-align: right;\n",
       "    }\n",
       "</style>\n",
       "<table border=\"1\" class=\"dataframe\">\n",
       "  <thead>\n",
       "    <tr style=\"text-align: right;\">\n",
       "      <th></th>\n",
       "      <th>id</th>\n",
       "      <th>title</th>\n",
       "      <th>author</th>\n",
       "      <th>text</th>\n",
       "      <th>label</th>\n",
       "    </tr>\n",
       "  </thead>\n",
       "  <tbody>\n",
       "    <tr>\n",
       "      <th>0</th>\n",
       "      <td>0</td>\n",
       "      <td>House Dem Aide: We Didn’t Even See Comey’s Let...</td>\n",
       "      <td>Darrell Lucus</td>\n",
       "      <td>House Dem Aide: We Didn’t Even See Comey’s Let...</td>\n",
       "      <td>1</td>\n",
       "    </tr>\n",
       "    <tr>\n",
       "      <th>1</th>\n",
       "      <td>1</td>\n",
       "      <td>FLYNN: Hillary Clinton, Big Woman on Campus - ...</td>\n",
       "      <td>Daniel J. Flynn</td>\n",
       "      <td>Ever get the feeling your life circles the rou...</td>\n",
       "      <td>0</td>\n",
       "    </tr>\n",
       "    <tr>\n",
       "      <th>2</th>\n",
       "      <td>2</td>\n",
       "      <td>Why the Truth Might Get You Fired</td>\n",
       "      <td>Consortiumnews.com</td>\n",
       "      <td>Why the Truth Might Get You Fired October 29, ...</td>\n",
       "      <td>1</td>\n",
       "    </tr>\n",
       "    <tr>\n",
       "      <th>3</th>\n",
       "      <td>3</td>\n",
       "      <td>15 Civilians Killed In Single US Airstrike Hav...</td>\n",
       "      <td>Jessica Purkiss</td>\n",
       "      <td>Videos 15 Civilians Killed In Single US Airstr...</td>\n",
       "      <td>1</td>\n",
       "    </tr>\n",
       "    <tr>\n",
       "      <th>4</th>\n",
       "      <td>4</td>\n",
       "      <td>Iranian woman jailed for fictional unpublished...</td>\n",
       "      <td>Howard Portnoy</td>\n",
       "      <td>Print \\nAn Iranian woman has been sentenced to...</td>\n",
       "      <td>1</td>\n",
       "    </tr>\n",
       "  </tbody>\n",
       "</table>\n",
       "</div>"
      ],
      "text/plain": [
       "   id                                              title              author  \\\n",
       "0   0  House Dem Aide: We Didn’t Even See Comey’s Let...       Darrell Lucus   \n",
       "1   1  FLYNN: Hillary Clinton, Big Woman on Campus - ...     Daniel J. Flynn   \n",
       "2   2                  Why the Truth Might Get You Fired  Consortiumnews.com   \n",
       "3   3  15 Civilians Killed In Single US Airstrike Hav...     Jessica Purkiss   \n",
       "4   4  Iranian woman jailed for fictional unpublished...      Howard Portnoy   \n",
       "\n",
       "                                                text  label  \n",
       "0  House Dem Aide: We Didn’t Even See Comey’s Let...      1  \n",
       "1  Ever get the feeling your life circles the rou...      0  \n",
       "2  Why the Truth Might Get You Fired October 29, ...      1  \n",
       "3  Videos 15 Civilians Killed In Single US Airstr...      1  \n",
       "4  Print \\nAn Iranian woman has been sentenced to...      1  "
      ]
     },
     "execution_count": 5,
     "metadata": {},
     "output_type": "execute_result"
    }
   ],
   "source": [
    "#after dropping null values,indexes will be unordered therfore resetting indexes\n",
    "ds.reset_index(inplace = True,drop = True)\n",
    "ds.head()"
   ]
  },
  {
   "cell_type": "code",
   "execution_count": 6,
   "metadata": {
    "execution": {
     "iopub.execute_input": "2021-07-07T05:48:22.894857Z",
     "iopub.status.busy": "2021-07-07T05:48:22.894463Z",
     "iopub.status.idle": "2021-07-07T05:48:22.901372Z",
     "shell.execute_reply": "2021-07-07T05:48:22.900330Z",
     "shell.execute_reply.started": "2021-07-07T05:48:22.894823Z"
    }
   },
   "outputs": [],
   "source": [
    "#defining dependent and independent vectors\n",
    "#taking only title for prediction\n",
    "x = ds.iloc[:,1:2]\n",
    "y = ds['label']"
   ]
  },
  {
   "cell_type": "code",
   "execution_count": 7,
   "metadata": {
    "execution": {
     "iopub.execute_input": "2021-07-07T05:48:22.905262Z",
     "iopub.status.busy": "2021-07-07T05:48:22.904456Z",
     "iopub.status.idle": "2021-07-07T05:48:22.915095Z",
     "shell.execute_reply": "2021-07-07T05:48:22.914122Z",
     "shell.execute_reply.started": "2021-07-07T05:48:22.905224Z"
    }
   },
   "outputs": [
    {
     "data": {
      "text/html": [
       "<div>\n",
       "<style scoped>\n",
       "    .dataframe tbody tr th:only-of-type {\n",
       "        vertical-align: middle;\n",
       "    }\n",
       "\n",
       "    .dataframe tbody tr th {\n",
       "        vertical-align: top;\n",
       "    }\n",
       "\n",
       "    .dataframe thead th {\n",
       "        text-align: right;\n",
       "    }\n",
       "</style>\n",
       "<table border=\"1\" class=\"dataframe\">\n",
       "  <thead>\n",
       "    <tr style=\"text-align: right;\">\n",
       "      <th></th>\n",
       "      <th>title</th>\n",
       "    </tr>\n",
       "  </thead>\n",
       "  <tbody>\n",
       "    <tr>\n",
       "      <th>0</th>\n",
       "      <td>House Dem Aide: We Didn’t Even See Comey’s Let...</td>\n",
       "    </tr>\n",
       "    <tr>\n",
       "      <th>1</th>\n",
       "      <td>FLYNN: Hillary Clinton, Big Woman on Campus - ...</td>\n",
       "    </tr>\n",
       "    <tr>\n",
       "      <th>2</th>\n",
       "      <td>Why the Truth Might Get You Fired</td>\n",
       "    </tr>\n",
       "    <tr>\n",
       "      <th>3</th>\n",
       "      <td>15 Civilians Killed In Single US Airstrike Hav...</td>\n",
       "    </tr>\n",
       "    <tr>\n",
       "      <th>4</th>\n",
       "      <td>Iranian woman jailed for fictional unpublished...</td>\n",
       "    </tr>\n",
       "  </tbody>\n",
       "</table>\n",
       "</div>"
      ],
      "text/plain": [
       "                                               title\n",
       "0  House Dem Aide: We Didn’t Even See Comey’s Let...\n",
       "1  FLYNN: Hillary Clinton, Big Woman on Campus - ...\n",
       "2                  Why the Truth Might Get You Fired\n",
       "3  15 Civilians Killed In Single US Airstrike Hav...\n",
       "4  Iranian woman jailed for fictional unpublished..."
      ]
     },
     "execution_count": 7,
     "metadata": {},
     "output_type": "execute_result"
    }
   ],
   "source": [
    "x.head()"
   ]
  },
  {
   "cell_type": "code",
   "execution_count": 8,
   "metadata": {
    "execution": {
     "iopub.execute_input": "2021-07-07T05:48:22.917472Z",
     "iopub.status.busy": "2021-07-07T05:48:22.917076Z",
     "iopub.status.idle": "2021-07-07T05:48:23.043535Z",
     "shell.execute_reply": "2021-07-07T05:48:23.042624Z",
     "shell.execute_reply.started": "2021-07-07T05:48:22.917427Z"
    }
   },
   "outputs": [
    {
     "data": {
      "text/plain": [
       "<AxesSubplot:xlabel='label', ylabel='count'>"
      ]
     },
     "execution_count": 8,
     "metadata": {},
     "output_type": "execute_result"
    },
    {
     "data": {
      "image/png": "[encoded data removed]",
      "text/plain": [
       "<Figure size 432x288 with 1 Axes>"
      ]
     },
     "metadata": {
      "needs_background": "light"
     },
     "output_type": "display_data"
    }
   ],
   "source": [
    "#checking number of real and fake news\n",
    "sns.countplot(x = 'label',data = ds)"
   ]
  },
  {
   "cell_type": "markdown",
   "metadata": {},
   "source": [
    "**ALMOST 10000 ARE RELIABLE(0) AND 8000 ARE UNRELIABLE(1)**"
   ]
  },
  {
   "cell_type": "code",
   "execution_count": 9,
   "metadata": {
    "execution": {
     "iopub.execute_input": "2021-07-07T05:48:23.045149Z",
     "iopub.status.busy": "2021-07-07T05:48:23.044787Z",
     "iopub.status.idle": "2021-07-07T05:48:55.166169Z",
     "shell.execute_reply": "2021-07-07T05:48:55.165280Z",
     "shell.execute_reply.started": "2021-07-07T05:48:23.045114Z"
    }
   },
   "outputs": [],
   "source": [
    "#Text Cleaning and preprocessing\n",
    "\n",
    "cleaned = []\n",
    "for i in range(0,len(ds)):\n",
    "    \n",
    "    #removing words any other than (a-z) and (A-Z)\n",
    "    text = re.sub('[^a-zA-Z]',' ', x['title'][i])\n",
    "    \n",
    "    #converting all words into lower case\n",
    "    text = text.lower()\n",
    "    \n",
    "    #tokenizing \n",
    "    text = text.split()\n",
    "    \n",
    "    #stemming and removing stopwords\n",
    "    ps = PorterStemmer()\n",
    "    text = [ps.stem(words) for words in text if words not in stopwords.words('english')]\n",
    "    text = ' '.join(text)\n",
    "    cleaned.append(text)"
   ]
  },
  {
   "cell_type": "code",
   "execution_count": 10,
   "metadata": {
    "execution": {
     "iopub.execute_input": "2021-07-07T05:48:55.167747Z",
     "iopub.status.busy": "2021-07-07T05:48:55.167410Z",
     "iopub.status.idle": "2021-07-07T05:48:55.174011Z",
     "shell.execute_reply": "2021-07-07T05:48:55.173020Z",
     "shell.execute_reply.started": "2021-07-07T05:48:55.167713Z"
    }
   },
   "outputs": [
    {
     "data": {
      "text/plain": [
       "['hous dem aid even see comey letter jason chaffetz tweet',\n",
       " 'flynn hillari clinton big woman campu breitbart',\n",
       " 'truth might get fire',\n",
       " 'civilian kill singl us airstrik identifi',\n",
       " 'iranian woman jail fiction unpublish stori woman stone death adulteri']"
      ]
     },
     "execution_count": 10,
     "metadata": {},
     "output_type": "execute_result"
    }
   ],
   "source": [
    "#cleaned text\n",
    "cleaned[:5]"
   ]
  },
  {
   "cell_type": "code",
   "execution_count": 11,
   "metadata": {
    "execution": {
     "iopub.execute_input": "2021-07-07T05:48:55.175756Z",
     "iopub.status.busy": "2021-07-07T05:48:55.175265Z",
     "iopub.status.idle": "2021-07-07T05:48:55.529868Z",
     "shell.execute_reply": "2021-07-07T05:48:55.528956Z",
     "shell.execute_reply.started": "2021-07-07T05:48:55.175719Z"
    }
   },
   "outputs": [
    {
     "data": {
      "text/plain": [
       "array([[   0,    0,    0, ..., 1363, 2889,  454],\n",
       "       [   0,    0,    0, ..., 3712, 4697, 2295],\n",
       "       [   0,    0,    0, ..., 3680, 1785, 2983],\n",
       "       ...,\n",
       "       [   0,    0,    0, ..., 4618, 2360, 2584],\n",
       "       [   0,    0,    0, ..., 2058, 3283, 1947],\n",
       "       [   0,    0,    0, ...,  513,  962, 4462]], dtype=int32)"
      ]
     },
     "execution_count": 11,
     "metadata": {},
     "output_type": "execute_result"
    }
   ],
   "source": [
    "#taking dictionary size 5000\n",
    "vocab_size = 5000\n",
    "\n",
    "#one hot encoding\n",
    "one_hot_dir = [one_hot(words,vocab_size) for words in cleaned]\n",
    "\n",
    "#length of all rows should be equal therefore applying padding\n",
    "#this will adjust size by adding 0 at staring of the shorter rows\n",
    "embedded_layer = pad_sequences(one_hot_dir,padding = 'pre')\n",
    "embedded_layer"
   ]
  },
  {
   "cell_type": "markdown",
   "metadata": {},
   "source": [
    "**LENGTH OF ALL ROWS IS EQUAL NOW**"
   ]
  },
  {
   "cell_type": "code",
   "execution_count": 12,
   "metadata": {
    "execution": {
     "iopub.execute_input": "2021-07-07T05:48:55.531596Z",
     "iopub.status.busy": "2021-07-07T05:48:55.531251Z",
     "iopub.status.idle": "2021-07-07T05:48:55.538230Z",
     "shell.execute_reply": "2021-07-07T05:48:55.537262Z",
     "shell.execute_reply.started": "2021-07-07T05:48:55.531560Z"
    }
   },
   "outputs": [],
   "source": [
    "#converting into numpy arrays.\n",
    "x = np.array(embedded_layer)\n",
    "y = np.array(y)"
   ]
  },
  {
   "cell_type": "code",
   "execution_count": 13,
   "metadata": {
    "execution": {
     "iopub.execute_input": "2021-07-07T05:48:55.540297Z",
     "iopub.status.busy": "2021-07-07T05:48:55.539937Z",
     "iopub.status.idle": "2021-07-07T05:48:55.552882Z",
     "shell.execute_reply": "2021-07-07T05:48:55.551951Z",
     "shell.execute_reply.started": "2021-07-07T05:48:55.540260Z"
    }
   },
   "outputs": [],
   "source": [
    "#splitting the Dataset into Train and Test set\n",
    "from sklearn.model_selection import train_test_split\n",
    "x_train,x_test,y_train,y_test=train_test_split(x,y,test_size=0.2,random_state=0)"
   ]
  },
  {
   "cell_type": "code",
   "execution_count": 26,
   "metadata": {
    "execution": {
     "iopub.execute_input": "2021-07-07T05:57:16.675238Z",
     "iopub.status.busy": "2021-07-07T05:57:16.674864Z",
     "iopub.status.idle": "2021-07-07T05:57:16.905385Z",
     "shell.execute_reply": "2021-07-07T05:57:16.904577Z",
     "shell.execute_reply.started": "2021-07-07T05:57:16.675206Z"
    }
   },
   "outputs": [],
   "source": [
    "#creating model using LSTM\n",
    "model = Sequential()\n",
    "\n",
    "#taking number features as 50\n",
    "model.add(Embedding(vocab_size,50,input_length = len(embedded_layer[0])))\n",
    "model.add(Dropout(0.5))\n",
    "\n",
    "#adding LSTM layers with 100 neurons\n",
    "model.add(LSTM(100))\n",
    "model.add(Dropout(0.5))\n",
    "\n",
    "#adding output layer \n",
    "model.add(Dense(1,activation=\"sigmoid\"))\n",
    "\n",
    "#compiling the model\n",
    "model.compile(loss=\"binary_crossentropy\",optimizer=\"adam\",metrics=[\"accuracy\"])"
   ]
  },
  {
   "cell_type": "code",
   "execution_count": 30,
   "metadata": {
    "execution": {
     "iopub.execute_input": "2021-07-07T05:58:31.518259Z",
     "iopub.status.busy": "2021-07-07T05:58:31.517935Z",
     "iopub.status.idle": "2021-07-07T05:58:31.526135Z",
     "shell.execute_reply": "2021-07-07T05:58:31.525167Z",
     "shell.execute_reply.started": "2021-07-07T05:58:31.518228Z"
    }
   },
   "outputs": [
    {
     "name": "stdout",
     "output_type": "stream",
     "text": [
      "Model: \"sequential_4\"\n",
      "_________________________________________________________________\n",
      "Layer (type)                 Output Shape              Param #   \n",
      "=================================================================\n",
      "embedding_4 (Embedding)      (None, 47, 50)            250000    \n",
      "_________________________________________________________________\n",
      "dropout_10 (Dropout)         (None, 47, 50)            0         \n",
      "_________________________________________________________________\n",
      "lstm_4 (LSTM)                (None, 100)               60400     \n",
      "_________________________________________________________________\n",
      "dropout_11 (Dropout)         (None, 100)               0         \n",
      "_________________________________________________________________\n",
      "dense_6 (Dense)              (None, 1)                 101       \n",
      "=================================================================\n",
      "Total params: 310,501\n",
      "Trainable params: 310,501\n",
      "Non-trainable params: 0\n",
      "_________________________________________________________________\n"
     ]
    }
   ],
   "source": [
    "#summary of model\n",
    "model.summary()"
   ]
  },
  {
   "cell_type": "code",
   "execution_count": 27,
   "metadata": {
    "execution": {
     "iopub.execute_input": "2021-07-07T05:57:22.741088Z",
     "iopub.status.busy": "2021-07-07T05:57:22.740731Z",
     "iopub.status.idle": "2021-07-07T05:57:44.692003Z",
     "shell.execute_reply": "2021-07-07T05:57:44.691217Z",
     "shell.execute_reply.started": "2021-07-07T05:57:22.741056Z"
    }
   },
   "outputs": [
    {
     "name": "stdout",
     "output_type": "stream",
     "text": [
      "Epoch 1/5\n",
      "458/458 [==============================] - 6s 9ms/step - loss: 0.3953 - accuracy: 0.7966 - val_loss: 0.1798 - val_accuracy: 0.9218\n",
      "Epoch 2/5\n",
      "458/458 [==============================] - 4s 9ms/step - loss: 0.1516 - accuracy: 0.9424 - val_loss: 0.1646 - val_accuracy: 0.9297\n",
      "Epoch 3/5\n",
      "458/458 [==============================] - 4s 8ms/step - loss: 0.1121 - accuracy: 0.9564 - val_loss: 0.1702 - val_accuracy: 0.9273\n",
      "Epoch 4/5\n",
      "458/458 [==============================] - 4s 8ms/step - loss: 0.0866 - accuracy: 0.9700 - val_loss: 0.1790 - val_accuracy: 0.9259\n",
      "Epoch 5/5\n",
      "458/458 [==============================] - 4s 9ms/step - loss: 0.0732 - accuracy: 0.9746 - val_loss: 0.2023 - val_accuracy: 0.9267\n"
     ]
    },
    {
     "data": {
      "text/plain": [
       "<tensorflow.python.keras.callbacks.History at 0x7f43c7450510>"
      ]
     },
     "execution_count": 27,
     "metadata": {},
     "output_type": "execute_result"
    }
   ],
   "source": [
    "#training the model\n",
    "model.fit(x_train, y_train, validation_data = (x_test,y_test), epochs = 5, batch_size = 32)"
   ]
  },
  {
   "cell_type": "code",
   "execution_count": 28,
   "metadata": {
    "execution": {
     "iopub.execute_input": "2021-07-07T05:57:54.927765Z",
     "iopub.status.busy": "2021-07-07T05:57:54.927418Z",
     "iopub.status.idle": "2021-07-07T05:57:55.474018Z",
     "shell.execute_reply": "2021-07-07T05:57:55.473082Z",
     "shell.execute_reply.started": "2021-07-07T05:57:54.927733Z"
    }
   },
   "outputs": [
    {
     "data": {
      "text/plain": [
       "0.9267158873393492"
      ]
     },
     "execution_count": 28,
     "metadata": {},
     "output_type": "execute_result"
    }
   ],
   "source": [
    "#predicting and getting accuracy\n",
    "y_pred = model.predict(x_test)\n",
    "y_pred = (y_pred > 0.5)\n",
    "from sklearn.metrics import accuracy_score\n",
    "accuracy_score(y_test,y_pred)"
   ]
  },
  {
   "cell_type": "code",
   "execution_count": 29,
   "metadata": {
    "execution": {
     "iopub.execute_input": "2021-07-07T05:58:12.463316Z",
     "iopub.status.busy": "2021-07-07T05:58:12.462993Z",
     "iopub.status.idle": "2021-07-07T05:58:12.485496Z",
     "shell.execute_reply": "2021-07-07T05:58:12.484551Z",
     "shell.execute_reply.started": "2021-07-07T05:58:12.463288Z"
    }
   },
   "outputs": [
    {
     "data": {
      "text/plain": [
       "array([[1899,  141],\n",
       "       [ 127, 1490]])"
      ]
     },
     "execution_count": 29,
     "metadata": {},
     "output_type": "execute_result"
    }
   ],
   "source": [
    "#getting confusion matrix\n",
    "from sklearn.metrics import confusion_matrix\n",
    "confusion_matrix(y_test,y_pred)"
   ]
  }
 ],
 "metadata": {
  "kernelspec": {
   "display_name": "Python 3",
   "language": "python",
   "name": "python3"
  },
  "language_info": {
   "codemirror_mode": {
    "name": "ipython",
    "version": 3
   },
   "file_extension": ".py",
   "mimetype": "text/x-python",
   "name": "python",
   "nbconvert_exporter": "python",
   "pygments_lexer": "ipython3",
   "version": "3.7.0"
  }
 },
 "nbformat": 4,
 "nbformat_minor": 4
}
